{
 "cells": [
  {
   "cell_type": "markdown",
   "id": "83e5c1fe",
   "metadata": {},
   "source": [
    "## Sentiment Analysis"
   ]
  },
  {
   "cell_type": "code",
   "execution_count": 1,
   "id": "db4970f6",
   "metadata": {},
   "outputs": [],
   "source": [
    "from typing import Annotated\n",
    "from typing_extensions import TypedDict # type: ignore\n",
    "\n",
    "from langgraph.graph import StateGraph, START, END # type: ignore\n",
    "from langgraph.graph.message import add_messages # type: ignore\n",
    "from langgraph.prebuilt import ToolNode , tools_condition\n",
    "from langgraph.checkpoint.memory import MemorySaver\n",
    "memory = MemorySaver()\n",
    "\n",
    "from langchain_groq import ChatGroq\n",
    "from langchain_tavily import TavilySearch\n",
    "\n",
    "import os\n",
    "from dotenv import load_dotenv # type: ignore\n",
    "\n",
    "# Load environment variables from .env file\n",
    "load_dotenv()\n",
    "\n",
    "# Configure Tavily API key\n",
    "os.environ[\"TAVILY_API_KEY\"] = os.getenv(\"TAVILY_API_KEY\", \"\")\n",
    "\n",
    "# Visualization\n",
    "from IPython.display import display,Image \n",
    "\n",
    "# Search Tools \n",
    "from langchain_tavily import TavilySearch"
   ]
  },
  {
   "cell_type": "markdown",
   "id": "d831e7e5",
   "metadata": {},
   "source": [
    "## LLM Configuration\n",
    "\n",
    "We're using the Groq API with the following configuration:\n",
    "- **Model**: `deepseek-r1-distill-llama-70b` - A distilled version of Llama model, optimized for faster inference\n",
    "- **Temperature**: 0.6 - A moderate temperature setting that balances creativity and consistency\n",
    "  - Range is 0-1, where lower values make the output more focused and deterministic\n",
    "  - Higher values (closer to 1) make the output more creative and diverse\n",
    "\n",
    "This configuration is suitable for:\n",
    "- Text generation\n",
    "- Sentiment analysis\n",
    "- General language understanding tasks\n",
    "- Maintaining a good balance between response quality and speed"
   ]
  },
  {
   "cell_type": "code",
   "execution_count": 2,
   "id": "b3e844c2",
   "metadata": {},
   "outputs": [],
   "source": [
    "llm = ChatGroq(\n",
    "   model_name='meta-llama/llama-4-maverick-17b-128e-instruct',  # deep seek \n",
    "   temperature=0.6\n",
    ")"
   ]
  },
  {
   "cell_type": "code",
   "execution_count": 3,
   "id": "7a0a56d7",
   "metadata": {},
   "outputs": [],
   "source": [
    "#this class is State for all Graph \n",
    "class State(TypedDict):\n",
    "    messages: Annotated[list, add_messages]  # List of messages with proper annotation\n",
    "\n",
    "##  this is the function for the Analyst \n",
    "def chat_bot(state:State):\n",
    "    return {\"messages\":llm.invoke(state['messages'])}\n",
    "\n",
    "##  this function draw graph of the multi-agent system\n",
    "def display_graph(graph: StateGraph):\n",
    "    try:\n",
    "        display(Image(graph.get_graph().draw_mermaid_png()))\n",
    "    except:\n",
    "        pass\n",
    "\n"
   ]
  },
  {
   "cell_type": "markdown",
   "id": "785c44fc",
   "metadata": {},
   "source": [
    "## Tavily Search Configuration\n",
    "\n",
    "We're using Tavily Search as our search tool with the following settings:\n",
    "- **Max Results**: 10 - Returns up to 10 most relevant search results\n",
    "- **Topic**: \"general\" - Optimized for general-purpose searches\n",
    "\n",
    "Optional parameters (currently using defaults):\n",
    "- `include_answer`: Returns a summarized answer (default: True)\n",
    "- `include_raw_content`: Include raw content from search results (default: True)\n",
    "- `include_images`: Include image URLs in results (default: True)\n",
    "- `search_depth`: Level of search depth (\"basic\" or \"advanced\")\n",
    "- `time_range`: Time filter for results (\"day\", \"week\", \"month\", etc.)\n",
    "- `include_domains`: List of specific domains to include\n",
    "- `exclude1_domains`: List of domains to exclude\n",
    "\n",
    "Tavily Search is particularly useful for:\n",
    "- Real-time web search capabilities\n",
    "- Retrieving current information\n",
    "- Enhancing the LLM's knowledge with up-to-date data\n",
    "- Supporting research and fact-checking tasks"
   ]
  },
  {
   "cell_type": "code",
   "execution_count": 4,
   "id": "76a4f57f",
   "metadata": {},
   "outputs": [],
   "source": [
    "tool =TavilySearch(\n",
    "    max_results=5,\n",
    "    topic=\"general\",\n",
    "    # include_answer=False,\n",
    "    # include_raw_content=False,\n",
    "    # include_images=False,\n",
    "    # include_image_descriptions=False,\n",
    "    # search_depth=\"basic\",\n",
    "    time_range=\"day\",\n",
    "    # include_domains=None,\n",
    "    # exclude_domains=None\n",
    ")\n",
    "\n",
    "\n",
    "tools = [tool]"
   ]
  },
  {
   "cell_type": "code",
   "execution_count": 5,
   "id": "c146ea00",
   "metadata": {},
   "outputs": [],
   "source": [
    "llm_with_tool = llm.bind_tools(tools)\n",
    "\n",
    "\n",
    "def analyst(state:State):\n",
    "    response = {'messages':[llm_with_tool.invoke(state['messages'])]}\n",
    "    return response"
   ]
  },
  {
   "cell_type": "code",
   "execution_count": 6,
   "id": "b9826044",
   "metadata": {},
   "outputs": [
    {
     "data": {
      "image/png": "[encoded data removed]",
      "text/plain": [
       "<IPython.core.display.Image object>"
      ]
     },
     "metadata": {},
     "output_type": "display_data"
    }
   ],
   "source": [
    "# Create the graph\n",
    "Researcher = StateGraph(State)\n",
    "\n",
    "# Add the nodes\n",
    "Researcher.add_node(\"analyst\", analyst)\n",
    "Researcher.add_node(\"tools\", ToolNode(tools=tools))\n",
    "\n",
    "# Add conditional edges\n",
    "Researcher.add_conditional_edges(\n",
    "    \"analyst\",  # Node to start from\n",
    "    tools_condition,  # Function that determines which node to go to next\n",
    "    {\n",
    "        \"tools\": \"tools\",  # If tools are needed\n",
    "        END: END  # If no tools are needed\n",
    "    }\n",
    ")\n",
    "\n",
    "# Add the remaining edges\n",
    "Researcher.add_edge(START, \"analyst\")\n",
    "Researcher.add_edge(\"tools\", \"analyst\")\n",
    "\n",
    "# Compile the graph\n",
    "Researcher = Researcher.compile(checkpointer=memory)\n",
    "\n",
    "# Display the graph\n",
    "display_graph(Researcher)"
   ]
  },
  {
   "cell_type": "code",
   "execution_count": null,
   "id": "fad1d3c7",
   "metadata": {},
   "outputs": [],
   "source": [
    "config = {'configurable':{'thread_id':\"1\"}}\n",
    "user_input = \"\"\"Please analyze the sentiment of Iran Khodro (ایران خودرو) in today's news. Follow these steps:\n",
    "\n",
    "1. Search for recent news about Iran Khodro (ایران خودرو)\n",
    "2. For each relevant article or source:\n",
    "   - Provide the source URL\n",
    "   - Summarize the key points\n",
    "   - Rate the sentiment on a scale of 1-10 where:\n",
    "     * 1-3: Very Negative\n",
    "     * 4-5: Slightly Negative\n",
    "     * 6: Neutral\n",
    "     * 7-8: Slightly Positive\n",
    "     * 9-10: Very Positive\n",
    "3. Explain the reasoning behind each sentiment score\n",
    "4. Calculate an overall sentiment score based on all sources\n",
    "\n",
    "Please present your findings in a clear, structured format in English.\"\"\"\n",
    "\n",
    "response = Researcher.invoke({'messages' : user_input}, config=config)"
   ]
  },
  {
   "cell_type": "code",
   "execution_count": null,
   "id": "c9c86c59",
   "metadata": {},
   "outputs": [
    {
     "name": "stdout",
     "output_type": "stream",
     "text": [
      "\n",
      "👤 Human: what is the sentiment from 1 -10 about Iran Khodro  ایران خودرو in the news today ? Provide your answer in English.\n",
      "\n",
      "🤖 AI: To determine the sentiment about Iran Khodro in the news today, we need to perform a search query. Here's how we can do it:\n",
      "\n",
      "\n",
      "\n",
      "📊 Stats:\n",
      "   - Total tokens: 2168\n",
      "   - Processing time: 0.22s\n",
      "\n",
      "🤖 AI: The sentiment about Iran Khodro in the news today is negative, with a score of around 3 out of 10. The news articles mention that the Iranian Regulatory Authority has stopped Iran Khodro from selling its products at new prices, citing \"excessive pricing\" and \"illegal price increases\" of over 8 trillion tomans (approximately $190 million USD). This has led to a reaction from the company, which has issued a statement protesting the decision. Overall, the news is unfavorable for Iran Khodro, indicating a negative sentiment.\n",
      "\n",
      "📊 Stats:\n",
      "   - Total tokens: 3437\n",
      "   - Processing time: 0.42s\n",
      "\n"
     ]
    }
   ],
   "source": [
    "def display_chat(messages):\n",
    "    \"\"\"Display chat messages in a readable format and save to a text file\"\"\"\n",
    "    output = []\n",
    "    \n",
    "    for msg in messages:\n",
    "        if msg.type == 'human':\n",
    "            formatted = f\"\\n👤 Query:\\n{msg.content}\\n\"\n",
    "            print(formatted)\n",
    "            output.append(formatted)\n",
    "        elif msg.type == 'ai':\n",
    "            formatted = f\"🤖 Analysis Results:\\n{msg.content}\\n\"\n",
    "            print(formatted)\n",
    "            output.append(formatted)\n",
    "            \n",
    "            # Optionally display reasoning if available\n",
    "            if 'reasoning_content' in msg.additional_kwargs:\n",
    "                reasoning = f\"🤔 Additional Analysis:\\n{msg.additional_kwargs['reasoning_content']}\\n\"\n",
    "                print(reasoning)\n",
    "                output.append(reasoning)\n",
    "            \n",
    "            # Display token usage if available\n",
    "            if hasattr(msg, 'response_metadata') and msg.response_metadata:\n",
    "                usage = msg.response_metadata.get('token_usage', {})\n",
    "                stats = (\n",
    "                    \"\\n📊 Analysis Statistics:\\n\"\n",
    "                    f\"   - Total tokens: {usage.get('total_tokens', 'N/A')}\\n\"\n",
    "                    f\"   - Processing time: {usage.get('total_time', 'N/A'):.2f}s\\n\"\n",
    "                )\n",
    "                print(stats)\n",
    "                output.append(stats)\n",
    "    \n",
    "    # Save the results to a text file\n",
    "    with open('sentiment_analysis_results.txt', 'w', encoding='utf-8') as f:\n",
    "        f.write('\\n'.join(output))\n",
    "    print(\"\\n📝 Results have been saved to 'sentiment_analysis_results.txt'\")\n",
    "\n",
    "# Display the messages nicely\n",
    "display_chat(response['messages'])"
   ]
  }
 ],
 "metadata": {
  "kernelspec": {
   "display_name": "Sentiment Project",
   "language": "python",
   "name": "python3"
  },
  "language_info": {
   "codemirror_mode": {
    "name": "ipython",
    "version": 3
   },
   "file_extension": ".py",
   "mimetype": "text/x-python",
   "name": "python",
   "nbconvert_exporter": "python",
   "pygments_lexer": "ipython3",
   "version": "3.13.6"
  }
 },
 "nbformat": 4,
 "nbformat_minor": 5
}
